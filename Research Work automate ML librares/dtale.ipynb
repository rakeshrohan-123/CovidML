{
 "cells": [
  {
   "cell_type": "code",
   "execution_count": 1,
   "metadata": {},
   "outputs": [
    {
     "name": "stdout",
     "output_type": "stream",
     "text": [
      "Collecting dtale\n",
      "  Using cached dtale-1.46.0-py2.py3-none-any.whl (14.4 MB)\n",
      "Requirement already satisfied: statsmodels; python_version > \"3.0\" in c:\\xampp1\\anaconda\\envs\\tensorflow\\lib\\site-packages (from dtale) (0.11.0)\n",
      "Collecting missingno\n",
      "  Using cached missingno-0.4.2-py3-none-any.whl (9.7 kB)\n",
      "Requirement already satisfied: pandas in c:\\xampp1\\anaconda\\envs\\tensorflow\\lib\\site-packages (from dtale) (1.1.2)\n",
      "Collecting lz4; python_version > \"3.0\"\n",
      "  Using cached lz4-3.1.3-cp37-cp37m-win_amd64.whl (192 kB)\n",
      "Collecting flask-ngrok; python_version > \"3.0\"\n",
      "  Using cached flask_ngrok-0.0.25-py3-none-any.whl (3.1 kB)\n",
      "Collecting dash-bootstrap-components; python_version > \"3.0\"\n",
      "  Using cached dash_bootstrap_components-0.12.2-py3-none-any.whl (191 kB)\n",
      "Requirement already satisfied: openpyxl; python_version >= \"3.0\" in c:\\xampp1\\anaconda\\envs\\tensorflow\\lib\\site-packages (from dtale) (3.0.3)\n",
      "Collecting kaleido; python_version > \"3.6\"\n",
      "  Downloading kaleido-0.2.1-py2.py3-none-win_amd64.whl (65.9 MB)\n",
      "Collecting dash-daq\n",
      "  Using cached dash_daq-0.5.0.tar.gz (642 kB)\n",
      "Requirement already satisfied: six in c:\\xampp1\\anaconda\\envs\\tensorflow\\lib\\site-packages (from dtale) (1.15.0)\n",
      "Requirement already satisfied: future>=0.14.0 in c:\\xampp1\\anaconda\\envs\\tensorflow\\lib\\site-packages (from dtale) (0.18.2)\n",
      "Requirement already satisfied: networkx; python_version >= \"3.0\" in c:\\xampp1\\anaconda\\envs\\tensorflow\\lib\\site-packages (from dtale) (2.4)\n",
      "Collecting dash-colorscales\n",
      "  Using cached dash_colorscales-0.0.4.tar.gz (62 kB)\n",
      "Collecting xarray; python_version >= \"3.0\"\n",
      "  Using cached xarray-0.18.0-py3-none-any.whl (801 kB)\n",
      "Requirement already satisfied: Flask>=1.0 in c:\\xampp1\\anaconda\\envs\\tensorflow\\lib\\site-packages (from dtale) (1.1.1)\n",
      "Requirement already satisfied: xlrd in c:\\xampp1\\anaconda\\envs\\tensorflow\\lib\\site-packages (from dtale) (1.2.0)\n",
      "Requirement already satisfied: scipy in c:\\xampp1\\anaconda\\envs\\tensorflow\\lib\\site-packages (from dtale) (1.4.1)\n",
      "Collecting squarify\n",
      "  Using cached squarify-0.4.3-py3-none-any.whl (4.3 kB)\n",
      "Requirement already satisfied: nbformat in c:\\xampp1\\anaconda\\envs\\tensorflow\\lib\\site-packages (from dtale) (5.0.4)\n",
      "Requirement already satisfied: seaborn; python_version >= \"3.6\" in c:\\xampp1\\anaconda\\envs\\tensorflow\\lib\\site-packages (from dtale) (0.10.0)\n",
      "Collecting plotly>=4.9.0\n",
      "  Using cached plotly-4.14.3-py2.py3-none-any.whl (13.2 MB)\n",
      "Requirement already satisfied: scikit-learn in c:\\xampp1\\anaconda\\envs\\tensorflow\\lib\\site-packages (from dtale) (0.22.1)\n",
      "Collecting Flask-Compress\n",
      "  Using cached Flask_Compress-1.9.0-py3-none-any.whl (7.3 kB)\n",
      "Collecting strsimpy\n",
      "  Using cached strsimpy-0.2.0-py3-none-any.whl (45 kB)\n",
      "Collecting dash>=1.5.0\n",
      "  Using cached dash-1.20.0.tar.gz (77 kB)\n",
      "Requirement already satisfied: itsdangerous in c:\\xampp1\\anaconda\\envs\\tensorflow\\lib\\site-packages (from dtale) (1.1.0)\n",
      "Collecting ppscore; python_version >= \"3.6\"\n",
      "  Using cached ppscore-1.2.0.tar.gz (47 kB)\n",
      "Requirement already satisfied: requests in c:\\xampp1\\anaconda\\envs\\tensorflow\\lib\\site-packages (from dtale) (2.24.0)\n",
      "Requirement already satisfied: et-xmlfile; python_version >= \"3.6\" in c:\\xampp1\\anaconda\\envs\\tensorflow\\lib\\site-packages (from dtale) (1.0.1)\n",
      "Requirement already satisfied: numpy>=1.14 in c:\\xampp1\\anaconda\\envs\\tensorflow\\lib\\site-packages (from statsmodels; python_version > \"3.0\"->dtale) (1.18.1)\n",
      "Requirement already satisfied: patsy>=0.5 in c:\\xampp1\\anaconda\\envs\\tensorflow\\lib\\site-packages (from statsmodels; python_version > \"3.0\"->dtale) (0.5.1)\n",
      "Requirement already satisfied: matplotlib in c:\\xampp1\\anaconda\\envs\\tensorflow\\lib\\site-packages (from missingno->dtale) (3.1.3)\n",
      "Requirement already satisfied: python-dateutil>=2.7.3 in c:\\xampp1\\anaconda\\envs\\tensorflow\\lib\\site-packages (from pandas->dtale) (2.8.1)\n",
      "Requirement already satisfied: pytz>=2017.2 in c:\\xampp1\\anaconda\\envs\\tensorflow\\lib\\site-packages (from pandas->dtale) (2019.3)\n",
      "Requirement already satisfied: jdcal in c:\\xampp1\\anaconda\\envs\\tensorflow\\lib\\site-packages (from openpyxl; python_version >= \"3.0\"->dtale) (1.4.1)\n",
      "Requirement already satisfied: decorator>=4.3.0 in c:\\xampp1\\anaconda\\envs\\tensorflow\\lib\\site-packages (from networkx; python_version >= \"3.0\"->dtale) (4.4.2)\n",
      "Requirement already satisfied: setuptools>=40.4 in c:\\xampp1\\anaconda\\envs\\tensorflow\\lib\\site-packages (from xarray; python_version >= \"3.0\"->dtale) (46.1.3.post20200330)\n",
      "Requirement already satisfied: Jinja2>=2.10.1 in c:\\xampp1\\anaconda\\envs\\tensorflow\\lib\\site-packages (from Flask>=1.0->dtale) (2.11.1)\n",
      "Requirement already satisfied: Werkzeug>=0.15 in c:\\xampp1\\anaconda\\envs\\tensorflow\\lib\\site-packages (from Flask>=1.0->dtale) (1.0.1)\n",
      "Requirement already satisfied: click>=5.1 in c:\\xampp1\\anaconda\\envs\\tensorflow\\lib\\site-packages (from Flask>=1.0->dtale) (7.1.1)\n",
      "Requirement already satisfied: ipython-genutils in c:\\xampp1\\anaconda\\envs\\tensorflow\\lib\\site-packages (from nbformat->dtale) (0.2.0)\n",
      "Requirement already satisfied: jsonschema!=2.5.0,>=2.4 in c:\\xampp1\\anaconda\\envs\\tensorflow\\lib\\site-packages (from nbformat->dtale) (3.2.0)\n",
      "Requirement already satisfied: jupyter-core in c:\\xampp1\\anaconda\\envs\\tensorflow\\lib\\site-packages (from nbformat->dtale) (4.6.3)\n",
      "Requirement already satisfied: traitlets>=4.1 in c:\\xampp1\\anaconda\\envs\\tensorflow\\lib\\site-packages (from nbformat->dtale) (4.3.3)\n",
      "Collecting retrying>=1.3.3\n",
      "  Downloading retrying-1.3.3.tar.gz (10 kB)\n",
      "Requirement already satisfied: joblib>=0.11 in c:\\xampp1\\anaconda\\envs\\tensorflow\\lib\\site-packages (from scikit-learn->dtale) (0.14.1)\n",
      "Collecting brotli\n",
      "  Downloading Brotli-1.0.9-cp37-cp37m-win_amd64.whl (365 kB)\n",
      "Collecting dash_renderer==1.9.1\n",
      "  Downloading dash_renderer-1.9.1.tar.gz (1.0 MB)\n",
      "Collecting dash-core-components==1.16.0\n",
      "  Downloading dash_core_components-1.16.0.tar.gz (3.5 MB)\n",
      "Collecting dash-html-components==1.1.3\n",
      "  Downloading dash_html_components-1.1.3.tar.gz (82 kB)\n",
      "Collecting dash-table==4.11.3\n",
      "  Downloading dash_table-4.11.3.tar.gz (1.8 MB)\n",
      "Requirement already satisfied: certifi>=2017.4.17 in c:\\xampp1\\anaconda\\envs\\tensorflow\\lib\\site-packages (from requests->dtale) (2020.6.20)\n",
      "Requirement already satisfied: urllib3!=1.25.0,!=1.25.1,<1.26,>=1.21.1 in c:\\xampp1\\anaconda\\envs\\tensorflow\\lib\\site-packages (from requests->dtale) (1.25.9)\n",
      "Requirement already satisfied: chardet<4,>=3.0.2 in c:\\xampp1\\anaconda\\envs\\tensorflow\\lib\\site-packages (from requests->dtale) (3.0.4)\n",
      "Requirement already satisfied: idna<3,>=2.5 in c:\\xampp1\\anaconda\\envs\\tensorflow\\lib\\site-packages (from requests->dtale) (2.10)\n",
      "Requirement already satisfied: kiwisolver>=1.0.1 in c:\\xampp1\\anaconda\\envs\\tensorflow\\lib\\site-packages (from matplotlib->missingno->dtale) (1.1.0)\n",
      "Requirement already satisfied: cycler>=0.10 in c:\\xampp1\\anaconda\\envs\\tensorflow\\lib\\site-packages (from matplotlib->missingno->dtale) (0.10.0)\n",
      "Requirement already satisfied: pyparsing!=2.0.4,!=2.1.2,!=2.1.6,>=2.0.1 in c:\\xampp1\\anaconda\\envs\\tensorflow\\lib\\site-packages (from matplotlib->missingno->dtale) (2.4.7)\n",
      "Requirement already satisfied: MarkupSafe>=0.23 in c:\\xampp1\\anaconda\\envs\\tensorflow\\lib\\site-packages (from Jinja2>=2.10.1->Flask>=1.0->dtale) (1.1.1)\n",
      "Requirement already satisfied: attrs>=17.4.0 in c:\\xampp1\\anaconda\\envs\\tensorflow\\lib\\site-packages (from jsonschema!=2.5.0,>=2.4->nbformat->dtale) (19.3.0)\n",
      "Requirement already satisfied: importlib-metadata; python_version < \"3.8\" in c:\\xampp1\\anaconda\\envs\\tensorflow\\lib\\site-packages (from jsonschema!=2.5.0,>=2.4->nbformat->dtale) (1.5.0)\n",
      "Requirement already satisfied: pyrsistent>=0.14.0 in c:\\xampp1\\anaconda\\envs\\tensorflow\\lib\\site-packages (from jsonschema!=2.5.0,>=2.4->nbformat->dtale) (0.16.0)\n",
      "Requirement already satisfied: pywin32>=1.0; sys_platform == \"win32\" in c:\\xampp1\\anaconda\\envs\\tensorflow\\lib\\site-packages (from jupyter-core->nbformat->dtale) (227)\n",
      "Requirement already satisfied: zipp>=0.5 in c:\\xampp1\\anaconda\\envs\\tensorflow\\lib\\site-packages (from importlib-metadata; python_version < \"3.8\"->jsonschema!=2.5.0,>=2.4->nbformat->dtale) (2.2.0)\n",
      "Building wheels for collected packages: dash-daq, dash-colorscales, dash, ppscore, retrying, dash-renderer, dash-core-components, dash-html-components, dash-table\n",
      "  Building wheel for dash-daq (setup.py): started\n",
      "  Building wheel for dash-daq (setup.py): finished with status 'done'\n",
      "  Created wheel for dash-daq: filename=dash_daq-0.5.0-py3-none-any.whl size=669701 sha256=02f79c6224b8377051f51197f8b65e12fe2df8d5f254b99ebe01734b6c38c70d\n",
      "  Stored in directory: c:\\users\\raghava\\appdata\\local\\pip\\cache\\wheels\\fe\\54\\53\\a8d448db5592874db4313240571ca2c069e55f6a6b29bf5847\n",
      "  Building wheel for dash-colorscales (setup.py): started\n",
      "  Building wheel for dash-colorscales (setup.py): finished with status 'done'\n",
      "  Created wheel for dash-colorscales: filename=dash_colorscales-0.0.4-py3-none-any.whl size=62598 sha256=3cf10678594bfcbb7f2aab9c81c54d739820aedd532790b4c481a7b321be7925\n",
      "  Stored in directory: c:\\users\\raghava\\appdata\\local\\pip\\cache\\wheels\\2f\\22\\7e\\183ba2af565e3eb955021fbb4fe8fe4a6b1ed8ae3e5c03236a\n",
      "  Building wheel for dash (setup.py): startedNote: you may need to restart the kernel to use updated packages.\n",
      "\n",
      "  Building wheel for dash (setup.py): finished with status 'done'\n",
      "  Created wheel for dash: filename=dash-1.20.0-py3-none-any.whl size=85831 sha256=21fb89223020c38c3fb1c3506369ac12ec09b1c154ed5ba746e321784056ab61\n",
      "  Stored in directory: c:\\users\\raghava\\appdata\\local\\pip\\cache\\wheels\\4f\\c3\\6a\\a7cb9cedfdf93e0f0e8db0817ff2646d319afa9e4ca543ef9c\n",
      "  Building wheel for ppscore (setup.py): started\n",
      "  Building wheel for ppscore (setup.py): finished with status 'done'\n",
      "  Created wheel for ppscore: filename=ppscore-1.2.0-py2.py3-none-any.whl size=13050 sha256=a1848d176dfaffdacf2f3b0aecf23bec85f3dd5bf9419ddbdcc95af47f5283f5\n",
      "  Stored in directory: c:\\users\\raghava\\appdata\\local\\pip\\cache\\wheels\\d2\\3c\\58\\2ff786414b21713edc6f4fdb54fdee89ac37bca5edd1f60634\n",
      "  Building wheel for retrying (setup.py): started\n",
      "  Building wheel for retrying (setup.py): finished with status 'done'\n",
      "  Created wheel for retrying: filename=retrying-1.3.3-py3-none-any.whl size=11429 sha256=4e67d74f24e753cab9bf77eda3feb226d1ecb2b0ac6a9248f2fa8a399af0fb02\n",
      "  Stored in directory: c:\\users\\raghava\\appdata\\local\\pip\\cache\\wheels\\f9\\8d\\8d\\f6af3f7f9eea3553bc2fe6d53e4b287dad18b06a861ac56ddf\n",
      "  Building wheel for dash-renderer (setup.py): started\n",
      "  Building wheel for dash-renderer (setup.py): finished with status 'done'\n",
      "  Created wheel for dash-renderer: filename=dash_renderer-1.9.1-py3-none-any.whl size=1014878 sha256=5337c4a404f6cd575f2c242c8c82b62d38da36351af7a7f936d77e9a6e0cbf1f\n",
      "  Stored in directory: c:\\users\\raghava\\appdata\\local\\pip\\cache\\wheels\\1a\\2f\\c0\\783c571f9861e5c716b56638926b03fb80bc58991e5a54947d\n",
      "  Building wheel for dash-core-components (setup.py): started\n",
      "  Building wheel for dash-core-components (setup.py): finished with status 'done'\n",
      "  Created wheel for dash-core-components: filename=dash_core_components-1.16.0-py3-none-any.whl size=3540991 sha256=5546857a8d521da9e23cfa5e94314f58d56d53e5c1e032774b8bdd63b6ec5ff7\n",
      "  Stored in directory: c:\\users\\raghava\\appdata\\local\\pip\\cache\\wheels\\6a\\50\\7e\\c440176e48ba46baa157b0f10365f6871acd133460b4e0abe4\n",
      "  Building wheel for dash-html-components (setup.py): started\n",
      "  Building wheel for dash-html-components (setup.py): finished with status 'done'\n",
      "  Created wheel for dash-html-components: filename=dash_html_components-1.1.3-py3-none-any.whl size=319471 sha256=e57dddc0a9aea370e620271ef4dc021dd3779f5afc9af2a05d29e2364fa3f275\n",
      "  Stored in directory: c:\\users\\raghava\\appdata\\local\\pip\\cache\\wheels\\7d\\75\\be\\b836bd1c1f92c4823fef293f82375ca448c1fc627ce50acff0\n",
      "  Building wheel for dash-table (setup.py): started\n",
      "  Building wheel for dash-table (setup.py): finished with status 'done'\n",
      "  Created wheel for dash-table: filename=dash_table-4.11.3-py3-none-any.whl size=1827618 sha256=f15481e8860e2d83cf924c4497910dc371730b94516bb89b0258761d55536541\n",
      "  Stored in directory: c:\\users\\raghava\\appdata\\local\\pip\\cache\\wheels\\99\\5e\\cb\\e1918e34d079454bad0504e73a9195d9da8cd46605560e6864\n",
      "Successfully built dash-daq dash-colorscales dash ppscore retrying dash-renderer dash-core-components dash-html-components dash-table\n",
      "Installing collected packages: missingno, lz4, flask-ngrok, brotli, Flask-Compress, retrying, plotly, dash-renderer, dash-core-components, dash-html-components, dash-table, dash, dash-bootstrap-components, kaleido, dash-daq, dash-colorscales, xarray, squarify, strsimpy, ppscore, dtale\n",
      "Successfully installed Flask-Compress-1.9.0 brotli-1.0.9 dash-1.20.0 dash-bootstrap-components-0.12.2 dash-colorscales-0.0.4 dash-core-components-1.16.0 dash-daq-0.5.0 dash-html-components-1.1.3 dash-renderer-1.9.1 dash-table-4.11.3 dtale-1.46.0 flask-ngrok-0.0.25 kaleido-0.2.1 lz4-3.1.3 missingno-0.4.2 plotly-4.14.3 ppscore-1.2.0 retrying-1.3.3 squarify-0.4.3 strsimpy-0.2.0 xarray-0.18.0\n"
     ]
    }
   ],
   "source": [
    "pip install dtale"
   ]
  },
  {
   "cell_type": "code",
   "execution_count": 1,
   "metadata": {},
   "outputs": [],
   "source": [
    "import pandas as pd\n",
    "dataset=pd.read_excel('covid.xls')\n"
   ]
  },
  {
   "cell_type": "code",
   "execution_count": 2,
   "metadata": {},
   "outputs": [
    {
     "name": "stderr",
     "output_type": "stream",
     "text": [
      "In C:\\xampp1\\anaconda\\envs\\tensorflow\\lib\\site-packages\\matplotlib\\mpl-data\\stylelib\\_classic_test.mplstyle: \n",
      "The text.latex.preview rcparam was deprecated in Matplotlib 3.3 and will be removed two minor releases later.\n",
      "In C:\\xampp1\\anaconda\\envs\\tensorflow\\lib\\site-packages\\matplotlib\\mpl-data\\stylelib\\_classic_test.mplstyle: \n",
      "The mathtext.fallback_to_cm rcparam was deprecated in Matplotlib 3.3 and will be removed two minor releases later.\n",
      "In C:\\xampp1\\anaconda\\envs\\tensorflow\\lib\\site-packages\\matplotlib\\mpl-data\\stylelib\\_classic_test.mplstyle: Support for setting the 'mathtext.fallback_to_cm' rcParam is deprecated since 3.3 and will be removed two minor releases later; use 'mathtext.fallback : 'cm' instead.\n",
      "In C:\\xampp1\\anaconda\\envs\\tensorflow\\lib\\site-packages\\matplotlib\\mpl-data\\stylelib\\_classic_test.mplstyle: \n",
      "The validate_bool_maybe_none function was deprecated in Matplotlib 3.3 and will be removed two minor releases later.\n",
      "In C:\\xampp1\\anaconda\\envs\\tensorflow\\lib\\site-packages\\matplotlib\\mpl-data\\stylelib\\_classic_test.mplstyle: \n",
      "The savefig.jpeg_quality rcparam was deprecated in Matplotlib 3.3 and will be removed two minor releases later.\n",
      "In C:\\xampp1\\anaconda\\envs\\tensorflow\\lib\\site-packages\\matplotlib\\mpl-data\\stylelib\\_classic_test.mplstyle: \n",
      "The keymap.all_axes rcparam was deprecated in Matplotlib 3.3 and will be removed two minor releases later.\n",
      "In C:\\xampp1\\anaconda\\envs\\tensorflow\\lib\\site-packages\\matplotlib\\mpl-data\\stylelib\\_classic_test.mplstyle: \n",
      "The animation.avconv_path rcparam was deprecated in Matplotlib 3.3 and will be removed two minor releases later.\n",
      "In C:\\xampp1\\anaconda\\envs\\tensorflow\\lib\\site-packages\\matplotlib\\mpl-data\\stylelib\\_classic_test.mplstyle: \n",
      "The animation.avconv_args rcparam was deprecated in Matplotlib 3.3 and will be removed two minor releases later.\n",
      "2021-06-03 14:24:50,836 - INFO     - NumExpr defaulting to 4 threads.\n"
     ]
    },
    {
     "data": {
      "text/html": [
       "\n",
       "        <iframe\n",
       "            width=\"100%\"\n",
       "            height=\"475\"\n",
       "            src=\"http://LAPTOP-8FS67L4D:40000/dtale/iframe/1\"\n",
       "            frameborder=\"0\"\n",
       "            allowfullscreen\n",
       "        ></iframe>\n",
       "        "
      ],
      "text/plain": [
       "<IPython.lib.display.IFrame at 0x1450a0d84c8>"
      ]
     },
     "metadata": {},
     "output_type": "display_data"
    },
    {
     "data": {
      "text/plain": []
     },
     "execution_count": 2,
     "metadata": {},
     "output_type": "execute_result"
    }
   ],
   "source": [
    "import dtale\n",
    "df=dtale.show(dataset)\n",
    "df"
   ]
  },
  {
   "cell_type": "code",
   "execution_count": null,
   "metadata": {},
   "outputs": [],
   "source": []
  }
 ],
 "metadata": {
  "kernelspec": {
   "display_name": "Python 3",
   "language": "python",
   "name": "python3"
  },
  "language_info": {
   "codemirror_mode": {
    "name": "ipython",
    "version": 3
   },
   "file_extension": ".py",
   "mimetype": "text/x-python",
   "name": "python",
   "nbconvert_exporter": "python",
   "pygments_lexer": "ipython3",
   "version": "3.7.7"
  }
 },
 "nbformat": 4,
 "nbformat_minor": 4
}
